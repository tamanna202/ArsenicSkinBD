{
 "cells": [
  {
   "cell_type": "code",
   "execution_count": 2,
   "id": "f9201fab-60ce-44cc-8773-0e983ad07a58",
   "metadata": {},
   "outputs": [],
   "source": [
    "import os\n",
    "import torch\n",
    "from torchvision import transforms\n",
    "from torchvision.datasets import ImageFolder\n",
    "from torch.utils.data import DataLoader"
   ]
  },
  {
   "cell_type": "markdown",
   "id": "9c5111ee-3dff-4ec2-b70e-ec2e95952994",
   "metadata": {},
   "source": [
    "## Rename Images for Infacted class"
   ]
  },
  {
   "cell_type": "code",
   "execution_count": 3,
   "id": "4abbac50-5c2c-46f3-81f8-1c5ac805d08f",
   "metadata": {},
   "outputs": [],
   "source": [
    "# Specify the directory containing the files\n",
    "infacted_path = 'Dataset/Original/infacted/'\n",
    "\n",
    "# Get a list of all files in the directory\n",
    "files = os.listdir(infacted_path)\n",
    "\n",
    "# Iterate through each file and rename it\n",
    "for filename in files:\n",
    "    # Check if the file is a regular file (not a directory)\n",
    "    if os.path.isfile(os.path.join(infacted_path, filename)):\n",
    "        # Split the file name and extension\n",
    "        name, extension = os.path.splitext(filename)\n",
    "        # Construct the new file name with \"healthy\" at the beginning\n",
    "        new_filename = f\"infacted_{name}{extension}\"\n",
    "        # Rename the file\n",
    "        os.rename(os.path.join(infacted_path, filename), os.path.join(infacted_path, new_filename))\n",
    "\n",
    "print(\"All files have been renamed.\")"
   ]
  },
  {
   "cell_type": "markdown",
   "id": "6822d443-1019-496c-95b2-f5df51a5ac19",
   "metadata": {},
   "source": [
    "## Rename Images for Not Infacted class"
   ]
  },
  {
   "cell_type": "code",
   "execution_count": 4,
   "id": "4885fbed-63af-4d01-8c8e-dc3a4bb9298d",
   "metadata": {},
   "outputs": [],
   "source": [
    "# Specify the directory containing the files\n",
    "not_infacted_path = 'Dataset/Original/not_infacted/'\n",
    "\n",
    "# Get a list of all files in the directory\n",
    "files = os.listdir(not_infacted_path)\n",
    "\n",
    "# Iterate through each file and rename it\n",
    "for filename in files:\n",
    "    # Check if the file is a regular file (not a directory)\n",
    "    if os.path.isfile(os.path.join(not_infacted_path, filename)):\n",
    "        # Split the file name and extension\n",
    "        name, extension = os.path.splitext(filename)\n",
    "        # Construct the new file name with \"healthy\" at the beginning\n",
    "        new_filename = f\"notinfacted_{name}{extension}\"\n",
    "        # Rename the file\n",
    "        os.rename(os.path.join(not_infacted_path, filename), os.path.join(not_infacted_path, new_filename))\n",
    "\n",
    "print(\"All files have been renamed.\")"
   ]
  },
  {
   "cell_type": "markdown",
   "id": "aa6b02cd-d6a0-4c27-9ca2-39401a8ecfbe",
   "metadata": {},
   "source": [
    "## Splitting Dataset"
   ]
  },
  {
   "cell_type": "code",
   "execution_count": 5,
   "id": "7aa833c9-4705-4e7f-a041-789dfc20a830",
   "metadata": {},
   "outputs": [],
   "source": [
    "import os\n",
    "import shutil\n",
    "import random"
   ]
  },
  {
   "cell_type": "code",
   "execution_count": 6,
   "id": "c8c60efb-2119-4c78-adb4-265761754563",
   "metadata": {},
   "outputs": [],
   "source": [
    "# Define the directories\n",
    "# For infacted class\n",
    "infacted_dir = 'Dataset/Original/infacted/'\n",
    "infacted_train_dir = 'Dataset/Original/infacted_Train/'\n",
    "infacted_test_dir = 'Dataset/Original/infacted_Test/'\n",
    "\n",
    "# For not_infacted class\n",
    "not_infacted_dir = 'Dataset/Original/not_infacted/'\n",
    "not_infacted_train_dir = 'Dataset/Original/not_infacted_Train/'\n",
    "not_infacted_test_dir = 'Dataset/Original/not_infacted_Test/'"
   ]
  },
  {
   "cell_type": "code",
   "execution_count": 7,
   "id": "8493f504-fbb2-4696-b6f4-cacc0e248320",
   "metadata": {},
   "outputs": [],
   "source": [
    "# Ensure the existence of the train and test directories\n",
    "os.makedirs(infacted_train_dir, exist_ok=True)\n",
    "os.makedirs(infacted_test_dir, exist_ok=True)\n",
    "os.makedirs(not_infacted_train_dir, exist_ok=True)\n",
    "os.makedirs(not_infacted_test_dir, exist_ok=True)"
   ]
  },
  {
   "cell_type": "code",
   "execution_count": 8,
   "id": "8a76ef58-c01a-41a5-a8ef-ffc1008d897f",
   "metadata": {},
   "outputs": [],
   "source": [
    "# List all files in the infacted directory\n",
    "infacted_files = os.listdir(infacted_dir)\n",
    "# List all files in the not_infacted directory\n",
    "not_infacted_files = os.listdir(not_infacted_dir)"
   ]
  },
  {
   "cell_type": "code",
   "execution_count": 9,
   "id": "d9370fb9-d723-4233-b7c0-57ee15cd8f03",
   "metadata": {},
   "outputs": [],
   "source": [
    "# Calculate the number of files to move to the test directory\n",
    "\n",
    "# For infacted class\n",
    "infacted_num_test_files = int(0.2 * len(infacted_files))\n",
    "print(\"Total number of infacted files: \",len(infacted_files))\n",
    "print(\"Num of test record: \",infacted_num_test_files)\n",
    "# For not_infacted class\n",
    "not_infacted_num_test_files = int(0.2 * len(not_infacted_files))\n",
    "print(\"Total number of not infacted files: \",len(not_infacted_files))\n",
    "print(\"Num of test record: \",not_infacted_num_test_files)"
   ]
  },
  {
   "cell_type": "code",
   "execution_count": 10,
   "id": "d80a4b70-2097-4798-9753-95aac57d3dff",
   "metadata": {},
   "outputs": [],
   "source": [
    "# Randomly select files for the test set\n",
    "# infacted\n",
    "infacted_test_files = random.sample(infacted_files, infacted_num_test_files)\n",
    "print(\"Infacted test set size: \",len(infacted_test_files))\n",
    "# not_infacted\n",
    "not_infacted_test_files = random.sample(not_infacted_files, not_infacted_num_test_files)\n",
    "print(\"Not Infacted test set size: \",len(not_infacted_test_files))"
   ]
  },
  {
   "cell_type": "code",
   "execution_count": 11,
   "id": "e97124b5-afcf-4252-ab12-9d55ee1ec944",
   "metadata": {},
   "outputs": [],
   "source": [
    "# Move files to the test directory\n",
    "# Infacted\n",
    "for file in infacted_test_files:\n",
    "    src = os.path.join(infacted_dir, file)\n",
    "    dst = os.path.join(infacted_test_dir, file)\n",
    "    shutil.move(src, dst)\n",
    "\n",
    "# Move the remaining files to the train directory\n",
    "for file in os.listdir(infacted_dir):\n",
    "    src = os.path.join(infacted_dir, file)\n",
    "    dst = os.path.join(infacted_train_dir, file)\n",
    "    shutil.move(src, dst)\n",
    "\n",
    "print(\"For Infacted class: Data splitting completed successfully!\")"
   ]
  },
  {
   "cell_type": "code",
   "execution_count": 12,
   "id": "c26190ac-961c-4cdc-be7a-03a8bb549cb6",
   "metadata": {},
   "outputs": [],
   "source": [
    "# Move files to the test directory\n",
    "# Not Infacted\n",
    "for file in not_infacted_test_files:\n",
    "    src = os.path.join(not_infacted_dir, file)\n",
    "    dst = os.path.join(not_infacted_test_dir, file)\n",
    "    shutil.move(src, dst)\n",
    "\n",
    "# Move the remaining files to the train directory\n",
    "for file in os.listdir(not_infacted_dir):\n",
    "    src = os.path.join(not_infacted_dir, file)\n",
    "    dst = os.path.join(not_infacted_train_dir, file)\n",
    "    shutil.move(src, dst)\n",
    "\n",
    "print(\"For Not Infacted class: Data splitting completed successfully!\")"
   ]
  },
  {
   "cell_type": "markdown",
   "id": "decf30dc-a156-4ce3-b96d-fc34e6186bdc",
   "metadata": {},
   "source": [
    "## Define Train Set"
   ]
  },
  {
   "cell_type": "code",
   "execution_count": 13,
   "id": "65fcaebc-734a-4124-b0b9-611783985350",
   "metadata": {},
   "outputs": [],
   "source": [
    "# Define all the train directories\n",
    "infacted_train_dir = 'Dataset/Original/infacted_Train/'\n",
    "not_infacted_train_dir = 'Dataset/Original/not_infacted_Train/'\n",
    "# Main train directory\n",
    "train_dir = 'Dataset/Original/Train/'\n",
    "\n",
    "# Ensure the existence of the train and test directories\n",
    "os.makedirs(train_dir, exist_ok=True)"
   ]
  },
  {
   "cell_type": "code",
   "execution_count": 14,
   "id": "7f0fd1f8-8a29-4e22-aa11-0aff05744f8b",
   "metadata": {},
   "outputs": [
    {
     "name": "stdout",
     "output_type": "stream",
     "text": [
      "Train splitting completed successfully!\n"
     ]
    }
   ],
   "source": [
    "# Move the files to the train directory\n",
    "for file in os.listdir(infacted_train_dir):\n",
    "    src = os.path.join(infacted_train_dir, file)\n",
    "    dst = os.path.join(train_dir, file)\n",
    "    shutil.move(src, dst)\n",
    "    \n",
    "for file in os.listdir(not_infacted_train_dir):\n",
    "    src = os.path.join(not_infacted_train_dir, file)\n",
    "    dst = os.path.join(train_dir, file)\n",
    "    shutil.move(src, dst)\n",
    "print(\"Train splitting completed successfully!\")"
   ]
  },
  {
   "cell_type": "markdown",
   "id": "5e1f30af-bb71-40a8-a405-454e375bcdf7",
   "metadata": {},
   "source": [
    "## Define Test Set"
   ]
  },
  {
   "cell_type": "code",
   "execution_count": 15,
   "id": "9fbb7429-5538-40d0-94a2-8d3cd96c027b",
   "metadata": {},
   "outputs": [],
   "source": [
    "# Define all the test directories\n",
    "infacted_test_dir = 'Dataset/Original/infacted_Test/'\n",
    "not_infacted_test_dir = 'Dataset/Original/not_infacted_Test/'\n",
    "# Main test directory\n",
    "test_dir = 'Dataset/Original/Test/'\n",
    "\n",
    "# Ensure the existence of the train and test directories\n",
    "os.makedirs(test_dir, exist_ok=True)"
   ]
  },
  {
   "cell_type": "code",
   "execution_count": 16,
   "id": "7e587824-2e61-455e-8ccd-5dbbf335a8b0",
   "metadata": {},
   "outputs": [
    {
     "name": "stdout",
     "output_type": "stream",
     "text": [
      "Test splitting completed successfully!\n"
     ]
    }
   ],
   "source": [
    "# Move the files to the test directory\n",
    "for file in os.listdir(infacted_test_dir):\n",
    "    src = os.path.join(infacted_test_dir, file)\n",
    "    dst = os.path.join(test_dir, file)\n",
    "    shutil.move(src, dst)\n",
    "    \n",
    "for file in os.listdir(not_infacted_test_dir):\n",
    "    src = os.path.join(not_infacted_test_dir, file)\n",
    "    dst = os.path.join(test_dir, file)\n",
    "    shutil.move(src, dst)\n",
    "print(\"Test splitting completed successfully!\")"
   ]
  }
 ],
 "metadata": {
  "kernelspec": {
   "display_name": "Python 3 (ipykernel)",
   "language": "python",
   "name": "python3"
  },
  "language_info": {
   "codemirror_mode": {
    "name": "ipython",
    "version": 3
   },
   "file_extension": ".py",
   "mimetype": "text/x-python",
   "name": "python",
   "nbconvert_exporter": "python",
   "pygments_lexer": "ipython3",
   "version": "3.11.7"
  }
 },
 "nbformat": 4,
 "nbformat_minor": 5
}
