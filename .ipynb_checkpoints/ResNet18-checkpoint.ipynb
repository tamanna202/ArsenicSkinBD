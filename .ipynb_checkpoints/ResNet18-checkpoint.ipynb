{
 "cells": [
  {
   "cell_type": "markdown",
   "id": "8f094dbb-fda9-452a-af4e-bda6f72c5346",
   "metadata": {},
   "source": [
    "# ResNet-18"
   ]
  },
  {
   "cell_type": "code",
   "execution_count": 1,
   "id": "da7d4d09-8575-4739-96dd-7acbc7309326",
   "metadata": {},
   "outputs": [],
   "source": [
    "import pandas as pd\n",
    "from PIL import Image\n",
    "from torch.utils.data import Dataset\n",
    "import torchvision.transforms as transforms\n",
    "\n",
    "class CustomDataset(Dataset):\n",
    "  def __init__(self, csv_file, transform=None):\n",
    "    self.data = pd.read_csv(csv_file)\n",
    "    self.transform = transform\n",
    "    self.label_dict = {\"notinfacted\": 0, \"infacted\": 1, \"meningioma\": 2, \"pituitary\": 3}\n",
    "\n",
    "  def __len__(self):\n",
    "    return len(self.data)\n",
    "\n",
    "  def __getitem__(self, idx):\n",
    "    # get image file paths from csv file\n",
    "    img_name = self.data.iloc[idx, 0]\n",
    "    # get the image from path\n",
    "    image = Image.open(img_name)\n",
    "    # get the image label from csv file\n",
    "    label = self.data.iloc[idx, 1]\n",
    "    # encode the image label accordingly\n",
    "    encoded_label = self.label_dict[label]\n",
    "    if self.transform:\n",
    "      image = self.transform(image)\n",
    "\n",
    "    return image, encoded_label\n",
    "\n",
    "\n",
    "# Define transforms for the input images\n",
    "transform = transforms.Compose(\n",
    "    [\n",
    "        transforms.Resize((244, 244)),\n",
    "        transforms.ToTensor(),\n",
    "        # normalization for color images\n",
    "        transforms.Normalize(mean=[0.485, 0.456, 0.406], std=[0.229, 0.224, 0.225]),\n",
    "    ]\n",
    ")\n",
    "\n",
    "\n",
    "# Load train and test datasets\n",
    "train_set = CustomDataset(\n",
    "    csv_file=\"train.csv\",\n",
    "    transform=transform,\n",
    ")\n",
    "test_set = CustomDataset(\n",
    "    csv_file=\"test.csv\",\n",
    "    transform=transform,\n",
    ")"
   ]
  },
  {
   "cell_type": "code",
   "execution_count": 2,
   "id": "f5d62467-f859-477c-acb6-c224a0c652df",
   "metadata": {},
   "outputs": [
    {
     "name": "stdout",
     "output_type": "stream",
     "text": [
      "1030\n",
      "257\n"
     ]
    }
   ],
   "source": [
    "# Print set sizes\n",
    "print(len(train_set))\n",
    "print(len(test_set))"
   ]
  },
  {
   "cell_type": "code",
   "execution_count": 3,
   "id": "9cd37002-ecbd-4450-bad3-dd617c2c4e47",
   "metadata": {},
   "outputs": [],
   "source": [
    "from torch.utils.data import Dataset, DataLoader\n",
    "\n",
    "batch_size = 32\n",
    "\n",
    "# Create DataLoader for train set\n",
    "train_loader = DataLoader(train_set, batch_size=batch_size, shuffle=True)"
   ]
  },
  {
   "cell_type": "code",
   "execution_count": 4,
   "id": "b475396b-5eff-4d18-8074-e58956e37cbb",
   "metadata": {},
   "outputs": [
    {
     "name": "stdout",
     "output_type": "stream",
     "text": [
      "33\n"
     ]
    }
   ],
   "source": [
    "# Print loader\n",
    "print(len(train_loader))"
   ]
  },
  {
   "cell_type": "code",
   "execution_count": 5,
   "id": "56f5239e-5cf0-423e-a85d-0baa6a39e1df",
   "metadata": {},
   "outputs": [
    {
     "data": {
      "text/plain": [
       "device(type='cuda')"
      ]
     },
     "execution_count": 5,
     "metadata": {},
     "output_type": "execute_result"
    }
   ],
   "source": [
    "import torch\n",
    "# Check if GPU is available and set the device accordingly\n",
    "device = torch.device(\"cuda\" if torch.cuda.is_available() else \"cpu\")\n",
    "device"
   ]
  },
  {
   "cell_type": "markdown",
   "id": "b2511af1-af9a-444c-9ca9-c87fde42cdaa",
   "metadata": {},
   "source": [
    "# Train ResNet-18 Model"
   ]
  },
  {
   "cell_type": "code",
   "execution_count": 9,
   "id": "a1b97001-bc95-499a-9525-92f525f5cef7",
   "metadata": {},
   "outputs": [],
   "source": [
    "import torch\n",
    "import torchvision\n",
    "import torch.nn as nn\n",
    "import torch.optim as optim\n",
    "# from torchsummary import summary\n",
    "\n",
    "# Define the model\n",
    "model = torchvision.models.resnet18(pretrained=True)\n",
    "\n",
    "# Modify the last fully connected layer\n",
    "num_ftrs = model.fc.in_features\n",
    "model.fc = nn.Linear(num_ftrs, 1)\n",
    "\n",
    "# Move the model to the appropriate device (GPU or CPU)\n",
    "model = model.to(device)"
   ]
  },
  {
   "cell_type": "code",
   "execution_count": 10,
   "id": "0eb3e956-8993-4e40-b4e4-4447bb75a8dd",
   "metadata": {},
   "outputs": [],
   "source": [
    "# Initialize the loss function\n",
    "loss_fn = nn.BCEWithLogitsLoss()\n",
    "\n",
    "# Define the optimizer\n",
    "optimizer = optim.Adam(model.parameters(), lr=0.001)"
   ]
  },
  {
   "cell_type": "code",
   "execution_count": 12,
   "id": "d627fd25-da91-4b6c-86c4-0da13f922218",
   "metadata": {},
   "outputs": [
    {
     "name": "stdout",
     "output_type": "stream",
     "text": [
      "Epoch [1/10], Loss: 0.4030, Train Accuracy: 85.34%, Time: 140.75 seconds (2.35 minutes)\n",
      "Epoch [2/10], Loss: 0.1956, Train Accuracy: 93.20%, Time: 138.80 seconds (2.31 minutes)\n",
      "Epoch [3/10], Loss: 0.1683, Train Accuracy: 92.91%, Time: 139.53 seconds (2.33 minutes)\n",
      "Epoch [4/10], Loss: 0.1980, Train Accuracy: 92.62%, Time: 137.72 seconds (2.30 minutes)\n",
      "Epoch [5/10], Loss: 0.1220, Train Accuracy: 96.02%, Time: 135.53 seconds (2.26 minutes)\n",
      "Epoch [6/10], Loss: 0.2461, Train Accuracy: 90.68%, Time: 136.26 seconds (2.27 minutes)\n",
      "Epoch [7/10], Loss: 0.1794, Train Accuracy: 93.69%, Time: 135.92 seconds (2.27 minutes)\n",
      "Epoch [8/10], Loss: 0.1294, Train Accuracy: 95.15%, Time: 136.46 seconds (2.27 minutes)\n",
      "Epoch [9/10], Loss: 0.1019, Train Accuracy: 96.21%, Time: 136.60 seconds (2.28 minutes)\n",
      "Epoch [10/10], Loss: 0.0702, Train Accuracy: 97.67%, Time: 136.07 seconds (2.27 minutes)\n",
      "Total training time: 22.90 minutes\n"
     ]
    }
   ],
   "source": [
    "import time\n",
    "\n",
    "num_epochs = 10\n",
    "total_start_time = time.time()\n",
    "\n",
    "for epoch in range(num_epochs):\n",
    "    epoch_start_time = time.time()\n",
    "    running_loss = 0.0\n",
    "    correct_train = 0\n",
    "    total_train = 0\n",
    "    \n",
    "    for inputs, labels in train_loader:\n",
    "        inputs, labels = inputs.to(device), labels.to(device)\n",
    "\n",
    "        optimizer.zero_grad()\n",
    "\n",
    "        outputs = model(inputs)\n",
    "        \n",
    "        # Reshape labels for BCEWithLogitsLoss\n",
    "        labels = labels.float().view(-1, 1)\n",
    "        loss = loss_fn(outputs, labels)\n",
    "\n",
    "        loss.backward()\n",
    "        optimizer.step()\n",
    "\n",
    "        running_loss += loss.item() * inputs.size(0)\n",
    "\n",
    "        # Apply sigmoid and round to get predictions\n",
    "        predicted = torch.round(torch.sigmoid(outputs))\n",
    "        total_train += labels.size(0)\n",
    "        correct_train += (predicted == labels).sum().item()\n",
    "\n",
    "    epoch_loss = running_loss / len(train_set)\n",
    "    epoch_end_time = time.time()\n",
    "    epoch_time = epoch_end_time - epoch_start_time\n",
    "    epoch_time_minutes = epoch_time / 60\n",
    "    \n",
    "    train_accuracy = correct_train / total_train\n",
    "    \n",
    "    # Save model checkpoints for each  epoch\n",
    "    torch.save(model.state_dict(), f\"resnet18_model_epoch_{epoch}.pth\")\n",
    "\n",
    "    print(f\"Epoch [{epoch+1}/{num_epochs}], \"\n",
    "          f\"Loss: {epoch_loss:.4f}, \"\n",
    "          f\"Train Accuracy: {train_accuracy:.2%}, \"\n",
    "          f\"Time: {epoch_time:.2f} seconds \"\n",
    "          f\"({epoch_time_minutes:.2f} minutes)\")\n",
    "\n",
    "total_end_time = time.time()\n",
    "total_time = total_end_time - total_start_time\n",
    "print(f\"Total training time: {total_time/60:.2f} minutes\")"
   ]
  },
  {
   "cell_type": "markdown",
   "id": "f8c5444c-a686-4aec-938a-574df5d54940",
   "metadata": {},
   "source": [
    "# Evaluate Model on Test Set"
   ]
  },
  {
   "cell_type": "code",
   "execution_count": 15,
   "id": "97d263cd-8282-4df5-8bc1-81bbfcf63ddc",
   "metadata": {},
   "outputs": [],
   "source": [
    "batch_size = 32\n",
    "test_loader = DataLoader(test_set, batch_size=batch_size, shuffle=False)"
   ]
  },
  {
   "cell_type": "code",
   "execution_count": 16,
   "id": "2a823670-b614-4f4d-9f04-ccfcd9974408",
   "metadata": {},
   "outputs": [],
   "source": [
    "import torch\n",
    "import torchvision\n",
    "import torch.nn as nn\n",
    "from torch.utils.data import DataLoader\n",
    "\n",
    "# Specify the path for loading the paper\n",
    "model_path = \"resnet18_model_epoch_9.pth\"\n",
    "\n",
    "# Set the device\n",
    "device = torch.device(\"cuda\" if torch.cuda.is_available() else \"cpu\")\n",
    "\n",
    "# Define the model architecture\n",
    "model = torchvision.models.resnet18(pretrained=False)\n",
    "# Modify the last fully connected layer\n",
    "model.fc = nn.Linear(model.fc.in_features, 1)\n",
    "\n",
    "# Load the state dictionary into the model\n",
    "model.load_state_dict(torch.load(model_path))\n",
    "\n",
    "# Move the model to the appropriate device\n",
    "model = model.to(device)"
   ]
  },
  {
   "cell_type": "code",
   "execution_count": 17,
   "id": "1054f458-b9cd-43fd-bfca-9c8bee0b8a16",
   "metadata": {},
   "outputs": [
    {
     "name": "stdout",
     "output_type": "stream",
     "text": [
      "Test Loss: 0.5394, Test Accuracy: 88.33%\n"
     ]
    }
   ],
   "source": [
    "# Set model to evaluation mode\n",
    "model.eval()\n",
    "\n",
    "# Initialize variables to store accuracy and loss\n",
    "test_loss = 0.0\n",
    "correct_test = 0\n",
    "total_test = 0\n",
    "\n",
    "# Define the device\n",
    "device = torch.device(\"cuda\" if torch.cuda.is_available() else \"cpu\")\n",
    "\n",
    "# Define the loss function\n",
    "loss_fn = nn.BCEWithLogitsLoss()\n",
    "\n",
    "# Iterate over the test dataset\n",
    "with torch.no_grad():\n",
    "    for inputs, labels in test_loader:\n",
    "        inputs, labels = inputs.to(device), labels.to(device)\n",
    "\n",
    "        # Forward pass\n",
    "        outputs = model(inputs)\n",
    "        # Reshape labels for BCEWithLogitsLoss\n",
    "        labels = labels.float().view(-1, 1)\n",
    "\n",
    "        # Calculate loss\n",
    "        loss = loss_fn(outputs, labels)\n",
    "        test_loss += loss.item() * inputs.size(0)\n",
    "\n",
    "        # Calculate test accuracy\n",
    "        # Apply sigmoid and round to get predictions\n",
    "        predicted = torch.round(torch.sigmoid(outputs))\n",
    "        total_test += labels.size(0)\n",
    "        correct_test += (predicted == labels).sum().item()\n",
    "\n",
    "# Calculate average loss and accuracy\n",
    "average_test_loss = test_loss / len(test_set)\n",
    "test_accuracy = correct_test / total_test\n",
    "print(f\"Test Loss: {average_test_loss:.4f}, Test Accuracy: {test_accuracy:.2%}\")"
   ]
  }
 ],
 "metadata": {
  "kernelspec": {
   "display_name": "Python 3 (ipykernel)",
   "language": "python",
   "name": "python3"
  },
  "language_info": {
   "codemirror_mode": {
    "name": "ipython",
    "version": 3
   },
   "file_extension": ".py",
   "mimetype": "text/x-python",
   "name": "python",
   "nbconvert_exporter": "python",
   "pygments_lexer": "ipython3",
   "version": "3.11.7"
  }
 },
 "nbformat": 4,
 "nbformat_minor": 5
}
