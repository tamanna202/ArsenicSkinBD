{
 "cells": [
  {
   "cell_type": "markdown",
   "id": "c52f19ce-0548-4a1c-b0f7-b9ac2c66dd68",
   "metadata": {},
   "source": [
    "# MobileNet v4"
   ]
  },
  {
   "cell_type": "code",
   "execution_count": 30,
   "id": "1daf077b-efd8-4bbc-a113-4cef1289bf94",
   "metadata": {},
   "outputs": [],
   "source": [
    "torch.set_default_device('cuda')"
   ]
  },
  {
   "cell_type": "code",
   "execution_count": 1,
   "id": "7a5117c6-4b2d-4c4e-ae91-1200931d14d5",
   "metadata": {},
   "outputs": [],
   "source": [
    "import pandas as pd\n",
    "from PIL import Image\n",
    "from torch.utils.data import Dataset\n",
    "import torchvision.transforms as transforms\n",
    "\n",
    "class CustomDataset(Dataset):\n",
    "  def __init__(self, csv_file, transform=None):\n",
    "    self.data = pd.read_csv(csv_file)\n",
    "    self.transform = transform\n",
    "    self.label_dict = {\"notinfacted\": 0, \"infacted\": 1}\n",
    "\n",
    "  def __len__(self):\n",
    "    return len(self.data)\n",
    "\n",
    "  def __getitem__(self, idx):\n",
    "    # get image file paths from csv file\n",
    "    img_name = self.data.iloc[idx, 0]\n",
    "    # get the image from path\n",
    "    image = Image.open(img_name)\n",
    "    # get the image label from csv file\n",
    "    label = self.data.iloc[idx, 1]\n",
    "    # encode the image label accordingly\n",
    "    encoded_label = self.label_dict[label]\n",
    "    if self.transform:\n",
    "      image = self.transform(image)\n",
    "\n",
    "    return image, encoded_label\n",
    "\n",
    "\n",
    "# Define transforms for the input images\n",
    "transform = transforms.Compose(\n",
    "    [\n",
    "        transforms.Resize((244, 244)),\n",
    "        transforms.ToTensor(),\n",
    "        # normalization for color images\n",
    "        transforms.Normalize(mean=[0.485, 0.456, 0.406], std=[0.229, 0.224, 0.225]),\n",
    "    ]\n",
    ")\n",
    "\n",
    "\n",
    "# Load train and test datasets\n",
    "train_set = CustomDataset(\n",
    "    csv_file=\"train.csv\",\n",
    "    transform=transform,\n",
    ")\n",
    "test_set = CustomDataset(\n",
    "    csv_file=\"test.csv\",\n",
    "    transform=transform,\n",
    ")"
   ]
  },
  {
   "cell_type": "code",
   "execution_count": 3,
   "id": "48cc9f8c-a459-4270-bec5-c4d5a65662a9",
   "metadata": {},
   "outputs": [
    {
     "name": "stdout",
     "output_type": "stream",
     "text": [
      "1030\n",
      "257\n"
     ]
    }
   ],
   "source": [
    "# Print set sizes\n",
    "print(len(train_set))\n",
    "print(len(test_set))"
   ]
  },
  {
   "cell_type": "code",
   "execution_count": 28,
   "id": "894b78bc-9115-4afc-bd73-971d47d7b0dc",
   "metadata": {},
   "outputs": [],
   "source": [
    "from torch.utils.data import DataLoader\n",
    "batch_size = 32\n",
    "\n",
    "# Define data loaders\n",
    "train_loader = DataLoader(train_set, batch_size=batch_size, shuffle=True, pin_memory=False, generator=torch.Generator(device='cuda'))\n",
    "test_loader = DataLoader(test_set, batch_size=batch_size, shuffle=False, pin_memory=False, generator=torch.Generator(device='cuda'))"
   ]
  },
  {
   "cell_type": "code",
   "execution_count": 29,
   "id": "2cd49cab-7c2c-4882-9dc4-b6797361b69c",
   "metadata": {},
   "outputs": [
    {
     "data": {
      "text/plain": [
       "device(type='cuda')"
      ]
     },
     "execution_count": 29,
     "metadata": {},
     "output_type": "execute_result"
    }
   ],
   "source": [
    "import torch\n",
    "# Check if GPU is available and set the device accordingly\n",
    "device = torch.device(\"cuda\" if torch.cuda.is_available() else \"cpu\")\n",
    "device"
   ]
  },
  {
   "cell_type": "code",
   "execution_count": 31,
   "id": "c83c1e96-cc1b-4428-b13b-271e991df743",
   "metadata": {},
   "outputs": [],
   "source": [
    "import torch\n",
    "import torch.nn as nn\n",
    "import torch.optim as optim\n",
    "import torchvision.models as models\n",
    "\n",
    "# Define MobileNetV4 model for binary classification\n",
    "class MobileNetV4(nn.Module):\n",
    "    def __init__(self):\n",
    "        super(MobileNetV4, self).__init__()\n",
    "        self.model = models.mobilenet_v3_small(weights='MobileNet_V3_Small_Weights.DEFAULT')\n",
    "        # Freeze all layers except the final classifier\n",
    "        for param in self.model.parameters():\n",
    "            param.requires_grad = False\n",
    "        self.model.classifier[-1] = nn.Linear(self.model.classifier[-1].in_features, 1)\n",
    "        self.sigmoid = nn.Sigmoid()\n",
    "\n",
    "    def forward(self, x):\n",
    "        x = self.model(x)\n",
    "        x = self.sigmoid(x)\n",
    "        return x\n",
    "\n",
    "# Initialize the model\n",
    "model = MobileNetV4()\n",
    "\n",
    "# Move the model to the appropriate device (GPU or CPU)\n",
    "model = model.to(device)"
   ]
  },
  {
   "cell_type": "code",
   "execution_count": 32,
   "id": "7c470036-ee2a-40f6-ac82-5569df981a28",
   "metadata": {},
   "outputs": [],
   "source": [
    "# Define loss function and optimizer\n",
    "loss_fn = nn.BCELoss().to(device)\n",
    "optimizer = optim.Adam(model.parameters(), lr=0.001)"
   ]
  },
  {
   "cell_type": "code",
   "execution_count": 33,
   "id": "e0fff3c0-5d3b-4560-bc70-18b66eda382e",
   "metadata": {},
   "outputs": [
    {
     "name": "stdout",
     "output_type": "stream",
     "text": [
      "Epoch [1/20], Loss: 0.5195, Accuracy: 0.7903, Time: 2.26 minutes\n",
      "Epoch [2/20], Loss: 0.3131, Accuracy: 0.9155, Time: 2.26 minutes\n",
      "Epoch [3/20], Loss: 0.2504, Accuracy: 0.9252, Time: 2.22 minutes\n",
      "Epoch [4/20], Loss: 0.2098, Accuracy: 0.9417, Time: 2.18 minutes\n",
      "Epoch [5/20], Loss: 0.1894, Accuracy: 0.9456, Time: 2.18 minutes\n",
      "Epoch [6/20], Loss: 0.1789, Accuracy: 0.9515, Time: 2.22 minutes\n",
      "Epoch [7/20], Loss: 0.1621, Accuracy: 0.9631, Time: 2.21 minutes\n",
      "Epoch [8/20], Loss: 0.1537, Accuracy: 0.9602, Time: 2.21 minutes\n",
      "Epoch [9/20], Loss: 0.1430, Accuracy: 0.9544, Time: 2.25 minutes\n",
      "Epoch [10/20], Loss: 0.1446, Accuracy: 0.9602, Time: 2.75 minutes\n",
      "Epoch [11/20], Loss: 0.1302, Accuracy: 0.9631, Time: 2.81 minutes\n",
      "Epoch [12/20], Loss: 0.1639, Accuracy: 0.9621, Time: 2.71 minutes\n",
      "Epoch [13/20], Loss: 0.1188, Accuracy: 0.9583, Time: 2.76 minutes\n",
      "Epoch [14/20], Loss: 0.1048, Accuracy: 0.9767, Time: 2.69 minutes\n",
      "Epoch [15/20], Loss: 0.1124, Accuracy: 0.9680, Time: 2.70 minutes\n",
      "Epoch [16/20], Loss: 0.1115, Accuracy: 0.9689, Time: 2.70 minutes\n",
      "Epoch [17/20], Loss: 0.1169, Accuracy: 0.9699, Time: 2.70 minutes\n",
      "Epoch [18/20], Loss: 0.1107, Accuracy: 0.9660, Time: 2.69 minutes\n",
      "Epoch [19/20], Loss: 0.1069, Accuracy: 0.9631, Time: 2.71 minutes\n",
      "Epoch [20/20], Loss: 0.1000, Accuracy: 0.9699, Time: 2.68 minutes\n",
      "Total training time: 49.91 minutes\n"
     ]
    }
   ],
   "source": [
    "import time\n",
    "\n",
    "# Training loop\n",
    "num_epochs = 20\n",
    "\n",
    "start_time = time.time()\n",
    "for epoch in range(num_epochs):\n",
    "    epoch_start_time = time.time()\n",
    "\n",
    "    # Set the model to training mode\n",
    "    model.train()\n",
    "    running_loss = 0.0\n",
    "    correct = 0\n",
    "    total = 0\n",
    "\n",
    "    for images, labels in train_loader:\n",
    "        images, labels = images.to(device), labels.to(device)\n",
    "\n",
    "        # Zero the parameter gradients\n",
    "        optimizer.zero_grad()\n",
    "\n",
    "        # Forward pass\n",
    "        outputs = model(images).squeeze(dim=1)\n",
    "        loss = loss_fn(outputs, labels.float())\n",
    "\n",
    "        # Backward pass and optimize\n",
    "        loss.backward()\n",
    "        optimizer.step()\n",
    "\n",
    "        # Track the accuracy and loss\n",
    "        predicted = torch.round(outputs)\n",
    "        total += labels.size(0)\n",
    "        correct += (predicted == labels).sum().item()\n",
    "        running_loss += loss.item()\n",
    "\n",
    "    epoch_loss = running_loss / len(train_loader)\n",
    "    epoch_accuracy = correct / total\n",
    "\n",
    "    epoch_time_minutes = (time.time() - epoch_start_time) / 60.0\n",
    "    print(f\"Epoch [{epoch+1}/{num_epochs}], Loss: {epoch_loss:.4f}, Accuracy: {epoch_accuracy:.4f}, Time: {epoch_time_minutes:.2f} minutes\")\n",
    "    # Save model checkpoints for each  epoch\n",
    "    torch.save(model.state_dict(), f\"mobileNetv4_model_bth{batch_size}_eph{num_epochs}_{epoch}.pth\")\n",
    "\n",
    "total_training_time_minutes = (time.time() - start_time) / 60.0\n",
    "print(f\"Total training time: {total_training_time_minutes:.2f} minutes\")"
   ]
  },
  {
   "cell_type": "markdown",
   "id": "9d7690b6-0be9-4a26-bbc3-9593428d1eff",
   "metadata": {},
   "source": [
    "# Evaluate Model"
   ]
  },
  {
   "cell_type": "code",
   "execution_count": 38,
   "id": "0a0a9427-b01a-42dc-9812-e8c117e0c36a",
   "metadata": {},
   "outputs": [
    {
     "data": {
      "text/plain": [
       "<All keys matched successfully>"
      ]
     },
     "execution_count": 38,
     "metadata": {},
     "output_type": "execute_result"
    }
   ],
   "source": [
    "# Load the saved model state from the .pth file\n",
    "saved_model_path = \"mobileNetv4_model_bth32_eph20_13.pth\"\n",
    "model.load_state_dict(torch.load(saved_model_path))"
   ]
  },
  {
   "cell_type": "code",
   "execution_count": 39,
   "id": "954fc98c-184c-4208-8bba-568bcdbb271a",
   "metadata": {},
   "outputs": [
    {
     "name": "stdout",
     "output_type": "stream",
     "text": [
      "Test Accuracy: 0.9533\n"
     ]
    }
   ],
   "source": [
    "# Set the model to evaluation mode\n",
    "model.eval()\n",
    "\n",
    "# Define a function to evaluate the model on the test loader\n",
    "def evaluate_model(model, test_loader):\n",
    "    correct = 0\n",
    "    total = 0\n",
    "    with torch.no_grad():\n",
    "        for images, labels in test_loader:\n",
    "            images, labels = images.to(device), labels.to(device)\n",
    "            outputs = model(images).squeeze(dim=1)\n",
    "            predicted = torch.round(outputs)\n",
    "            total += labels.size(0)\n",
    "            correct += (predicted == labels).sum().item()\n",
    "\n",
    "    accuracy = correct / total\n",
    "    return accuracy\n",
    "\n",
    "# Evaluate the model on the test loader\n",
    "test_accuracy = evaluate_model(model, test_loader)\n",
    "print(f\"Test Accuracy: {test_accuracy:.4f}\")"
   ]
  },
  {
   "cell_type": "code",
   "execution_count": 40,
   "id": "0be7bd3a-d814-40b9-8ee2-d94b01364675",
   "metadata": {},
   "outputs": [
    {
     "data": {
      "text/plain": [
       "<All keys matched successfully>"
      ]
     },
     "execution_count": 40,
     "metadata": {},
     "output_type": "execute_result"
    }
   ],
   "source": [
    "# Load the saved model state from the .pth file\n",
    "saved_model_path = \"mobileNetv4_model_bth32_eph20_19.pth\"\n",
    "model.load_state_dict(torch.load(saved_model_path))"
   ]
  },
  {
   "cell_type": "code",
   "execution_count": 41,
   "id": "5248a8af-470f-4b77-807a-6d01a55f05fd",
   "metadata": {},
   "outputs": [
    {
     "name": "stdout",
     "output_type": "stream",
     "text": [
      "Test Accuracy: 0.9572\n"
     ]
    }
   ],
   "source": [
    "# Set the model to evaluation mode\n",
    "model.eval()\n",
    "\n",
    "# Define a function to evaluate the model on the test loader\n",
    "def evaluate_model(model, test_loader):\n",
    "    correct = 0\n",
    "    total = 0\n",
    "    with torch.no_grad():\n",
    "        for images, labels in test_loader:\n",
    "            images, labels = images.to(device), labels.to(device)\n",
    "            outputs = model(images).squeeze(dim=1)\n",
    "            predicted = torch.round(outputs)\n",
    "            total += labels.size(0)\n",
    "            correct += (predicted == labels).sum().item()\n",
    "\n",
    "    accuracy = correct / total\n",
    "    return accuracy\n",
    "\n",
    "# Evaluate the model on the test loader\n",
    "test_accuracy = evaluate_model(model, test_loader)\n",
    "print(f\"Test Accuracy: {test_accuracy:.4f}\")"
   ]
  }
 ],
 "metadata": {
  "kernelspec": {
   "display_name": "Python 3 (ipykernel)",
   "language": "python",
   "name": "python3"
  },
  "language_info": {
   "codemirror_mode": {
    "name": "ipython",
    "version": 3
   },
   "file_extension": ".py",
   "mimetype": "text/x-python",
   "name": "python",
   "nbconvert_exporter": "python",
   "pygments_lexer": "ipython3",
   "version": "3.11.7"
  }
 },
 "nbformat": 4,
 "nbformat_minor": 5
}
