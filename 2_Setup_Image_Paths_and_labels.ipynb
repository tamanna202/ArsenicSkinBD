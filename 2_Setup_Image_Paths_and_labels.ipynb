{
 "cells": [
  {
   "cell_type": "markdown",
   "id": "e7db070a-52e2-4f76-8d04-57c40a8b4f7c",
   "metadata": {},
   "source": [
    "# Process Train set and labels"
   ]
  },
  {
   "cell_type": "code",
   "execution_count": 1,
   "id": "9232f17f-2cf0-42db-881a-9912435d4673",
   "metadata": {},
   "outputs": [
    {
     "data": {
      "text/plain": [
       "['Dataset/Original/Train/infacted_IMG_1169.JPG',\n",
       " 'Dataset/Original/Train/infacted_IMG_1170.JPG',\n",
       " 'Dataset/Original/Train/infacted_IMG_1171.JPG',\n",
       " 'Dataset/Original/Train/infacted_IMG_1173.JPG',\n",
       " 'Dataset/Original/Train/infacted_IMG_1174.JPG',\n",
       " 'Dataset/Original/Train/infacted_IMG_1175.JPG',\n",
       " 'Dataset/Original/Train/infacted_IMG_1176.JPG',\n",
       " 'Dataset/Original/Train/infacted_IMG_1179.JPG',\n",
       " 'Dataset/Original/Train/infacted_IMG_1180.JPG',\n",
       " 'Dataset/Original/Train/infacted_IMG_1181.JPG']"
      ]
     },
     "execution_count": 1,
     "metadata": {},
     "output_type": "execute_result"
    }
   ],
   "source": [
    "import pandas as pd\n",
    "import numpy as np\n",
    "import os\n",
    "\n",
    "Id = []\n",
    "for dirname, _, filenames in os.walk('Dataset/Original/Train/'):\n",
    "    for filename in filenames:\n",
    "        Id.append(os.path.join(dirname, filename))\n",
    "Id[:10]"
   ]
  },
  {
   "cell_type": "code",
   "execution_count": 2,
   "id": "3eb99622-fc38-4800-b19d-b0bd7593fa73",
   "metadata": {},
   "outputs": [
    {
     "data": {
      "text/html": [
       "<div>\n",
       "<style scoped>\n",
       "    .dataframe tbody tr th:only-of-type {\n",
       "        vertical-align: middle;\n",
       "    }\n",
       "\n",
       "    .dataframe tbody tr th {\n",
       "        vertical-align: top;\n",
       "    }\n",
       "\n",
       "    .dataframe thead th {\n",
       "        text-align: right;\n",
       "    }\n",
       "</style>\n",
       "<table border=\"1\" class=\"dataframe\">\n",
       "  <thead>\n",
       "    <tr style=\"text-align: right;\">\n",
       "      <th></th>\n",
       "      <th>filename</th>\n",
       "    </tr>\n",
       "  </thead>\n",
       "  <tbody>\n",
       "    <tr>\n",
       "      <th>0</th>\n",
       "      <td>Dataset/Original/Train/infacted_IMG_1169.JPG</td>\n",
       "    </tr>\n",
       "    <tr>\n",
       "      <th>1</th>\n",
       "      <td>Dataset/Original/Train/infacted_IMG_1170.JPG</td>\n",
       "    </tr>\n",
       "    <tr>\n",
       "      <th>2</th>\n",
       "      <td>Dataset/Original/Train/infacted_IMG_1171.JPG</td>\n",
       "    </tr>\n",
       "    <tr>\n",
       "      <th>3</th>\n",
       "      <td>Dataset/Original/Train/infacted_IMG_1173.JPG</td>\n",
       "    </tr>\n",
       "    <tr>\n",
       "      <th>4</th>\n",
       "      <td>Dataset/Original/Train/infacted_IMG_1174.JPG</td>\n",
       "    </tr>\n",
       "  </tbody>\n",
       "</table>\n",
       "</div>"
      ],
      "text/plain": [
       "                                       filename\n",
       "0  Dataset/Original/Train/infacted_IMG_1169.JPG\n",
       "1  Dataset/Original/Train/infacted_IMG_1170.JPG\n",
       "2  Dataset/Original/Train/infacted_IMG_1171.JPG\n",
       "3  Dataset/Original/Train/infacted_IMG_1173.JPG\n",
       "4  Dataset/Original/Train/infacted_IMG_1174.JPG"
      ]
     },
     "execution_count": 2,
     "metadata": {},
     "output_type": "execute_result"
    }
   ],
   "source": [
    "# Convert image id's to pandas dataframe\n",
    "train = pd.DataFrame().assign(filename=Id)\n",
    "train.head()"
   ]
  },
  {
   "cell_type": "code",
   "execution_count": 3,
   "id": "d2c0c556-bf9a-4453-aaf6-827375d2437d",
   "metadata": {},
   "outputs": [
    {
     "data": {
      "text/html": [
       "<div>\n",
       "<style scoped>\n",
       "    .dataframe tbody tr th:only-of-type {\n",
       "        vertical-align: middle;\n",
       "    }\n",
       "\n",
       "    .dataframe tbody tr th {\n",
       "        vertical-align: top;\n",
       "    }\n",
       "\n",
       "    .dataframe thead th {\n",
       "        text-align: right;\n",
       "    }\n",
       "</style>\n",
       "<table border=\"1\" class=\"dataframe\">\n",
       "  <thead>\n",
       "    <tr style=\"text-align: right;\">\n",
       "      <th></th>\n",
       "      <th>filename</th>\n",
       "    </tr>\n",
       "  </thead>\n",
       "  <tbody>\n",
       "    <tr>\n",
       "      <th>1025</th>\n",
       "      <td>Dataset/Original/Train/notinfacted_IMG_3236.JPG</td>\n",
       "    </tr>\n",
       "    <tr>\n",
       "      <th>1026</th>\n",
       "      <td>Dataset/Original/Train/notinfacted_IMG_3238.JPG</td>\n",
       "    </tr>\n",
       "    <tr>\n",
       "      <th>1027</th>\n",
       "      <td>Dataset/Original/Train/notinfacted_IMG_3239.JPG</td>\n",
       "    </tr>\n",
       "    <tr>\n",
       "      <th>1028</th>\n",
       "      <td>Dataset/Original/Train/notinfacted_IMG_3241.JPG</td>\n",
       "    </tr>\n",
       "    <tr>\n",
       "      <th>1029</th>\n",
       "      <td>Dataset/Original/Train/notinfacted_IMG_3242.JPG</td>\n",
       "    </tr>\n",
       "  </tbody>\n",
       "</table>\n",
       "</div>"
      ],
      "text/plain": [
       "                                             filename\n",
       "1025  Dataset/Original/Train/notinfacted_IMG_3236.JPG\n",
       "1026  Dataset/Original/Train/notinfacted_IMG_3238.JPG\n",
       "1027  Dataset/Original/Train/notinfacted_IMG_3239.JPG\n",
       "1028  Dataset/Original/Train/notinfacted_IMG_3241.JPG\n",
       "1029  Dataset/Original/Train/notinfacted_IMG_3242.JPG"
      ]
     },
     "execution_count": 3,
     "metadata": {},
     "output_type": "execute_result"
    }
   ],
   "source": [
    "train.tail()"
   ]
  },
  {
   "cell_type": "code",
   "execution_count": 4,
   "id": "4f3a0cba-62f6-4cd2-a80d-b32f0ae60a35",
   "metadata": {},
   "outputs": [],
   "source": [
    "# Add new column 'label' and process labels for images\n",
    "train['label'] = train['filename']\n",
    "\n",
    "for i in range(len(train)):\n",
    "    if 'infacted' in train['filename'][i]:\n",
    "        train['label'][i] = 'infacted'\n",
    "    if 'notinfacted' in train['filename'][i]:\n",
    "        train['label'][i] = 'notinfacted'"
   ]
  },
  {
   "cell_type": "code",
   "execution_count": 5,
   "id": "c9e35035-6bf3-4d71-adce-be5adfde2e22",
   "metadata": {},
   "outputs": [
    {
     "data": {
      "text/html": [
       "<div>\n",
       "<style scoped>\n",
       "    .dataframe tbody tr th:only-of-type {\n",
       "        vertical-align: middle;\n",
       "    }\n",
       "\n",
       "    .dataframe tbody tr th {\n",
       "        vertical-align: top;\n",
       "    }\n",
       "\n",
       "    .dataframe thead th {\n",
       "        text-align: right;\n",
       "    }\n",
       "</style>\n",
       "<table border=\"1\" class=\"dataframe\">\n",
       "  <thead>\n",
       "    <tr style=\"text-align: right;\">\n",
       "      <th></th>\n",
       "      <th>filename</th>\n",
       "      <th>label</th>\n",
       "    </tr>\n",
       "  </thead>\n",
       "  <tbody>\n",
       "    <tr>\n",
       "      <th>0</th>\n",
       "      <td>Dataset/Original/Train/infacted_IMG_1169.JPG</td>\n",
       "      <td>infacted</td>\n",
       "    </tr>\n",
       "    <tr>\n",
       "      <th>1</th>\n",
       "      <td>Dataset/Original/Train/infacted_IMG_1170.JPG</td>\n",
       "      <td>infacted</td>\n",
       "    </tr>\n",
       "    <tr>\n",
       "      <th>2</th>\n",
       "      <td>Dataset/Original/Train/infacted_IMG_1171.JPG</td>\n",
       "      <td>infacted</td>\n",
       "    </tr>\n",
       "    <tr>\n",
       "      <th>3</th>\n",
       "      <td>Dataset/Original/Train/infacted_IMG_1173.JPG</td>\n",
       "      <td>infacted</td>\n",
       "    </tr>\n",
       "    <tr>\n",
       "      <th>4</th>\n",
       "      <td>Dataset/Original/Train/infacted_IMG_1174.JPG</td>\n",
       "      <td>infacted</td>\n",
       "    </tr>\n",
       "  </tbody>\n",
       "</table>\n",
       "</div>"
      ],
      "text/plain": [
       "                                       filename     label\n",
       "0  Dataset/Original/Train/infacted_IMG_1169.JPG  infacted\n",
       "1  Dataset/Original/Train/infacted_IMG_1170.JPG  infacted\n",
       "2  Dataset/Original/Train/infacted_IMG_1171.JPG  infacted\n",
       "3  Dataset/Original/Train/infacted_IMG_1173.JPG  infacted\n",
       "4  Dataset/Original/Train/infacted_IMG_1174.JPG  infacted"
      ]
     },
     "execution_count": 5,
     "metadata": {},
     "output_type": "execute_result"
    }
   ],
   "source": [
    "train.head()"
   ]
  },
  {
   "cell_type": "code",
   "execution_count": 6,
   "id": "b6387a4e-a2c9-4077-82a4-2ede0f864cfe",
   "metadata": {},
   "outputs": [
    {
     "data": {
      "text/html": [
       "<div>\n",
       "<style scoped>\n",
       "    .dataframe tbody tr th:only-of-type {\n",
       "        vertical-align: middle;\n",
       "    }\n",
       "\n",
       "    .dataframe tbody tr th {\n",
       "        vertical-align: top;\n",
       "    }\n",
       "\n",
       "    .dataframe thead th {\n",
       "        text-align: right;\n",
       "    }\n",
       "</style>\n",
       "<table border=\"1\" class=\"dataframe\">\n",
       "  <thead>\n",
       "    <tr style=\"text-align: right;\">\n",
       "      <th></th>\n",
       "      <th>filename</th>\n",
       "      <th>label</th>\n",
       "    </tr>\n",
       "  </thead>\n",
       "  <tbody>\n",
       "    <tr>\n",
       "      <th>1025</th>\n",
       "      <td>Dataset/Original/Train/notinfacted_IMG_3236.JPG</td>\n",
       "      <td>notinfacted</td>\n",
       "    </tr>\n",
       "    <tr>\n",
       "      <th>1026</th>\n",
       "      <td>Dataset/Original/Train/notinfacted_IMG_3238.JPG</td>\n",
       "      <td>notinfacted</td>\n",
       "    </tr>\n",
       "    <tr>\n",
       "      <th>1027</th>\n",
       "      <td>Dataset/Original/Train/notinfacted_IMG_3239.JPG</td>\n",
       "      <td>notinfacted</td>\n",
       "    </tr>\n",
       "    <tr>\n",
       "      <th>1028</th>\n",
       "      <td>Dataset/Original/Train/notinfacted_IMG_3241.JPG</td>\n",
       "      <td>notinfacted</td>\n",
       "    </tr>\n",
       "    <tr>\n",
       "      <th>1029</th>\n",
       "      <td>Dataset/Original/Train/notinfacted_IMG_3242.JPG</td>\n",
       "      <td>notinfacted</td>\n",
       "    </tr>\n",
       "  </tbody>\n",
       "</table>\n",
       "</div>"
      ],
      "text/plain": [
       "                                             filename        label\n",
       "1025  Dataset/Original/Train/notinfacted_IMG_3236.JPG  notinfacted\n",
       "1026  Dataset/Original/Train/notinfacted_IMG_3238.JPG  notinfacted\n",
       "1027  Dataset/Original/Train/notinfacted_IMG_3239.JPG  notinfacted\n",
       "1028  Dataset/Original/Train/notinfacted_IMG_3241.JPG  notinfacted\n",
       "1029  Dataset/Original/Train/notinfacted_IMG_3242.JPG  notinfacted"
      ]
     },
     "execution_count": 6,
     "metadata": {},
     "output_type": "execute_result"
    }
   ],
   "source": [
    "train.tail()"
   ]
  },
  {
   "cell_type": "code",
   "execution_count": 7,
   "id": "34c01447-07eb-4e53-9e78-3542bc4ac6b7",
   "metadata": {},
   "outputs": [
    {
     "data": {
      "text/plain": [
       "label\n",
       "infacted       593\n",
       "notinfacted    437\n",
       "Name: count, dtype: int64"
      ]
     },
     "execution_count": 7,
     "metadata": {},
     "output_type": "execute_result"
    }
   ],
   "source": [
    "train['label'].value_counts()"
   ]
  },
  {
   "cell_type": "markdown",
   "id": "1d842370-d9b4-44f4-8d68-6abeb6720709",
   "metadata": {},
   "source": [
    "# Process Test set and labels"
   ]
  },
  {
   "cell_type": "code",
   "execution_count": 8,
   "id": "3e9e3cf6-00de-479f-b2ad-0968c8bbafb3",
   "metadata": {},
   "outputs": [
    {
     "data": {
      "text/plain": [
       "['Dataset/Original/Test/infacted_IMG_1172.JPG',\n",
       " 'Dataset/Original/Test/infacted_IMG_1177.JPG',\n",
       " 'Dataset/Original/Test/infacted_IMG_1178.JPG',\n",
       " 'Dataset/Original/Test/infacted_IMG_1182.JPG',\n",
       " 'Dataset/Original/Test/infacted_IMG_1186.JPG',\n",
       " 'Dataset/Original/Test/infacted_IMG_1188.JPG',\n",
       " 'Dataset/Original/Test/infacted_IMG_1190.JPG',\n",
       " 'Dataset/Original/Test/infacted_IMG_1195.JPG',\n",
       " 'Dataset/Original/Test/infacted_IMG_1200.JPG',\n",
       " 'Dataset/Original/Test/infacted_IMG_1202.JPG']"
      ]
     },
     "execution_count": 8,
     "metadata": {},
     "output_type": "execute_result"
    }
   ],
   "source": [
    "Id = []\n",
    "for dirname, _, filenames in os.walk('Dataset/Original/Test/'):\n",
    "    for filename in filenames:\n",
    "        Id.append(os.path.join(dirname, filename))\n",
    "Id[:10]"
   ]
  },
  {
   "cell_type": "code",
   "execution_count": 9,
   "id": "dd9e6d86-d50a-431d-8931-e9a0bf72ff37",
   "metadata": {},
   "outputs": [
    {
     "data": {
      "text/html": [
       "<div>\n",
       "<style scoped>\n",
       "    .dataframe tbody tr th:only-of-type {\n",
       "        vertical-align: middle;\n",
       "    }\n",
       "\n",
       "    .dataframe tbody tr th {\n",
       "        vertical-align: top;\n",
       "    }\n",
       "\n",
       "    .dataframe thead th {\n",
       "        text-align: right;\n",
       "    }\n",
       "</style>\n",
       "<table border=\"1\" class=\"dataframe\">\n",
       "  <thead>\n",
       "    <tr style=\"text-align: right;\">\n",
       "      <th></th>\n",
       "      <th>filename</th>\n",
       "    </tr>\n",
       "  </thead>\n",
       "  <tbody>\n",
       "    <tr>\n",
       "      <th>0</th>\n",
       "      <td>Dataset/Original/Test/infacted_IMG_1172.JPG</td>\n",
       "    </tr>\n",
       "    <tr>\n",
       "      <th>1</th>\n",
       "      <td>Dataset/Original/Test/infacted_IMG_1177.JPG</td>\n",
       "    </tr>\n",
       "    <tr>\n",
       "      <th>2</th>\n",
       "      <td>Dataset/Original/Test/infacted_IMG_1178.JPG</td>\n",
       "    </tr>\n",
       "    <tr>\n",
       "      <th>3</th>\n",
       "      <td>Dataset/Original/Test/infacted_IMG_1182.JPG</td>\n",
       "    </tr>\n",
       "    <tr>\n",
       "      <th>4</th>\n",
       "      <td>Dataset/Original/Test/infacted_IMG_1186.JPG</td>\n",
       "    </tr>\n",
       "  </tbody>\n",
       "</table>\n",
       "</div>"
      ],
      "text/plain": [
       "                                      filename\n",
       "0  Dataset/Original/Test/infacted_IMG_1172.JPG\n",
       "1  Dataset/Original/Test/infacted_IMG_1177.JPG\n",
       "2  Dataset/Original/Test/infacted_IMG_1178.JPG\n",
       "3  Dataset/Original/Test/infacted_IMG_1182.JPG\n",
       "4  Dataset/Original/Test/infacted_IMG_1186.JPG"
      ]
     },
     "execution_count": 9,
     "metadata": {},
     "output_type": "execute_result"
    }
   ],
   "source": [
    "# Convert image id's to pandas dataframe\n",
    "test = pd.DataFrame().assign(filename=Id)\n",
    "test.head()"
   ]
  },
  {
   "cell_type": "code",
   "execution_count": 10,
   "id": "43f7e0ee-f046-4903-87ca-52432c08a2c4",
   "metadata": {},
   "outputs": [
    {
     "data": {
      "text/html": [
       "<div>\n",
       "<style scoped>\n",
       "    .dataframe tbody tr th:only-of-type {\n",
       "        vertical-align: middle;\n",
       "    }\n",
       "\n",
       "    .dataframe tbody tr th {\n",
       "        vertical-align: top;\n",
       "    }\n",
       "\n",
       "    .dataframe thead th {\n",
       "        text-align: right;\n",
       "    }\n",
       "</style>\n",
       "<table border=\"1\" class=\"dataframe\">\n",
       "  <thead>\n",
       "    <tr style=\"text-align: right;\">\n",
       "      <th></th>\n",
       "      <th>filename</th>\n",
       "    </tr>\n",
       "  </thead>\n",
       "  <tbody>\n",
       "    <tr>\n",
       "      <th>252</th>\n",
       "      <td>Dataset/Original/Test/notinfacted_IMG_2095.JPG</td>\n",
       "    </tr>\n",
       "    <tr>\n",
       "      <th>253</th>\n",
       "      <td>Dataset/Original/Test/notinfacted_IMG_3233.JPG</td>\n",
       "    </tr>\n",
       "    <tr>\n",
       "      <th>254</th>\n",
       "      <td>Dataset/Original/Test/notinfacted_IMG_3234.JPG</td>\n",
       "    </tr>\n",
       "    <tr>\n",
       "      <th>255</th>\n",
       "      <td>Dataset/Original/Test/notinfacted_IMG_3237.JPG</td>\n",
       "    </tr>\n",
       "    <tr>\n",
       "      <th>256</th>\n",
       "      <td>Dataset/Original/Test/notinfacted_IMG_3240.JPG</td>\n",
       "    </tr>\n",
       "  </tbody>\n",
       "</table>\n",
       "</div>"
      ],
      "text/plain": [
       "                                           filename\n",
       "252  Dataset/Original/Test/notinfacted_IMG_2095.JPG\n",
       "253  Dataset/Original/Test/notinfacted_IMG_3233.JPG\n",
       "254  Dataset/Original/Test/notinfacted_IMG_3234.JPG\n",
       "255  Dataset/Original/Test/notinfacted_IMG_3237.JPG\n",
       "256  Dataset/Original/Test/notinfacted_IMG_3240.JPG"
      ]
     },
     "execution_count": 10,
     "metadata": {},
     "output_type": "execute_result"
    }
   ],
   "source": [
    "test.tail()"
   ]
  },
  {
   "cell_type": "code",
   "execution_count": 11,
   "id": "7ee6dc51-d7e9-4f6e-a4c3-9829d6ca5f33",
   "metadata": {},
   "outputs": [],
   "source": [
    "# Add new column 'label' and process labels for images\n",
    "test['label'] = test['filename']\n",
    "\n",
    "for i in range(len(test)):\n",
    "    if 'infacted' in test['filename'][i]:\n",
    "        test['label'][i] = 'infacted'\n",
    "    if 'notinfacted' in test['filename'][i]:\n",
    "        test['label'][i] = 'notinfacted'"
   ]
  },
  {
   "cell_type": "code",
   "execution_count": 12,
   "id": "8a9a76b7-2e18-410c-9246-9404164739dc",
   "metadata": {},
   "outputs": [
    {
     "data": {
      "text/html": [
       "<div>\n",
       "<style scoped>\n",
       "    .dataframe tbody tr th:only-of-type {\n",
       "        vertical-align: middle;\n",
       "    }\n",
       "\n",
       "    .dataframe tbody tr th {\n",
       "        vertical-align: top;\n",
       "    }\n",
       "\n",
       "    .dataframe thead th {\n",
       "        text-align: right;\n",
       "    }\n",
       "</style>\n",
       "<table border=\"1\" class=\"dataframe\">\n",
       "  <thead>\n",
       "    <tr style=\"text-align: right;\">\n",
       "      <th></th>\n",
       "      <th>filename</th>\n",
       "      <th>label</th>\n",
       "    </tr>\n",
       "  </thead>\n",
       "  <tbody>\n",
       "    <tr>\n",
       "      <th>0</th>\n",
       "      <td>Dataset/Original/Test/infacted_IMG_1172.JPG</td>\n",
       "      <td>infacted</td>\n",
       "    </tr>\n",
       "    <tr>\n",
       "      <th>1</th>\n",
       "      <td>Dataset/Original/Test/infacted_IMG_1177.JPG</td>\n",
       "      <td>infacted</td>\n",
       "    </tr>\n",
       "    <tr>\n",
       "      <th>2</th>\n",
       "      <td>Dataset/Original/Test/infacted_IMG_1178.JPG</td>\n",
       "      <td>infacted</td>\n",
       "    </tr>\n",
       "    <tr>\n",
       "      <th>3</th>\n",
       "      <td>Dataset/Original/Test/infacted_IMG_1182.JPG</td>\n",
       "      <td>infacted</td>\n",
       "    </tr>\n",
       "    <tr>\n",
       "      <th>4</th>\n",
       "      <td>Dataset/Original/Test/infacted_IMG_1186.JPG</td>\n",
       "      <td>infacted</td>\n",
       "    </tr>\n",
       "  </tbody>\n",
       "</table>\n",
       "</div>"
      ],
      "text/plain": [
       "                                      filename     label\n",
       "0  Dataset/Original/Test/infacted_IMG_1172.JPG  infacted\n",
       "1  Dataset/Original/Test/infacted_IMG_1177.JPG  infacted\n",
       "2  Dataset/Original/Test/infacted_IMG_1178.JPG  infacted\n",
       "3  Dataset/Original/Test/infacted_IMG_1182.JPG  infacted\n",
       "4  Dataset/Original/Test/infacted_IMG_1186.JPG  infacted"
      ]
     },
     "execution_count": 12,
     "metadata": {},
     "output_type": "execute_result"
    }
   ],
   "source": [
    "test.head()"
   ]
  },
  {
   "cell_type": "code",
   "execution_count": 13,
   "id": "c292a5f2-38e4-410c-b793-4422d6ee9e47",
   "metadata": {},
   "outputs": [
    {
     "data": {
      "text/html": [
       "<div>\n",
       "<style scoped>\n",
       "    .dataframe tbody tr th:only-of-type {\n",
       "        vertical-align: middle;\n",
       "    }\n",
       "\n",
       "    .dataframe tbody tr th {\n",
       "        vertical-align: top;\n",
       "    }\n",
       "\n",
       "    .dataframe thead th {\n",
       "        text-align: right;\n",
       "    }\n",
       "</style>\n",
       "<table border=\"1\" class=\"dataframe\">\n",
       "  <thead>\n",
       "    <tr style=\"text-align: right;\">\n",
       "      <th></th>\n",
       "      <th>filename</th>\n",
       "      <th>label</th>\n",
       "    </tr>\n",
       "  </thead>\n",
       "  <tbody>\n",
       "    <tr>\n",
       "      <th>252</th>\n",
       "      <td>Dataset/Original/Test/notinfacted_IMG_2095.JPG</td>\n",
       "      <td>notinfacted</td>\n",
       "    </tr>\n",
       "    <tr>\n",
       "      <th>253</th>\n",
       "      <td>Dataset/Original/Test/notinfacted_IMG_3233.JPG</td>\n",
       "      <td>notinfacted</td>\n",
       "    </tr>\n",
       "    <tr>\n",
       "      <th>254</th>\n",
       "      <td>Dataset/Original/Test/notinfacted_IMG_3234.JPG</td>\n",
       "      <td>notinfacted</td>\n",
       "    </tr>\n",
       "    <tr>\n",
       "      <th>255</th>\n",
       "      <td>Dataset/Original/Test/notinfacted_IMG_3237.JPG</td>\n",
       "      <td>notinfacted</td>\n",
       "    </tr>\n",
       "    <tr>\n",
       "      <th>256</th>\n",
       "      <td>Dataset/Original/Test/notinfacted_IMG_3240.JPG</td>\n",
       "      <td>notinfacted</td>\n",
       "    </tr>\n",
       "  </tbody>\n",
       "</table>\n",
       "</div>"
      ],
      "text/plain": [
       "                                           filename        label\n",
       "252  Dataset/Original/Test/notinfacted_IMG_2095.JPG  notinfacted\n",
       "253  Dataset/Original/Test/notinfacted_IMG_3233.JPG  notinfacted\n",
       "254  Dataset/Original/Test/notinfacted_IMG_3234.JPG  notinfacted\n",
       "255  Dataset/Original/Test/notinfacted_IMG_3237.JPG  notinfacted\n",
       "256  Dataset/Original/Test/notinfacted_IMG_3240.JPG  notinfacted"
      ]
     },
     "execution_count": 13,
     "metadata": {},
     "output_type": "execute_result"
    }
   ],
   "source": [
    "test.tail()"
   ]
  },
  {
   "cell_type": "code",
   "execution_count": 14,
   "id": "f73dccf7-0eaf-4051-82b2-731788fb65fb",
   "metadata": {},
   "outputs": [
    {
     "data": {
      "text/plain": [
       "label\n",
       "infacted       148\n",
       "notinfacted    109\n",
       "Name: count, dtype: int64"
      ]
     },
     "execution_count": 14,
     "metadata": {},
     "output_type": "execute_result"
    }
   ],
   "source": [
    "test['label'].value_counts()"
   ]
  },
  {
   "cell_type": "code",
   "execution_count": 15,
   "id": "e0ff7e3f-be4c-42c4-be16-2bd781017f42",
   "metadata": {},
   "outputs": [],
   "source": [
    "# Save train and test dataframe as csv for future use\n",
    "train.to_csv('train.csv', index=False)\n",
    "test.to_csv('test.csv', index=False)"
   ]
  }
 ],
 "metadata": {
  "kernelspec": {
   "display_name": "Python 3 (ipykernel)",
   "language": "python",
   "name": "python3"
  },
  "language_info": {
   "codemirror_mode": {
    "name": "ipython",
    "version": 3
   },
   "file_extension": ".py",
   "mimetype": "text/x-python",
   "name": "python",
   "nbconvert_exporter": "python",
   "pygments_lexer": "ipython3",
   "version": "3.11.7"
  }
 },
 "nbformat": 4,
 "nbformat_minor": 5
}
